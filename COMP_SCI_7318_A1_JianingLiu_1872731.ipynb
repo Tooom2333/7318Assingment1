{
  "nbformat": 4,
  "nbformat_minor": 0,
  "metadata": {
    "colab": {
      "provenance": []
    },
    "kernelspec": {
      "name": "python3",
      "display_name": "Python 3"
    },
    "language_info": {
      "name": "python"
    }
  },
  "cells": [
    {
      "cell_type": "code",
      "source": [
        "from pandas.io.formats import printing\n",
        "from torch.utils.data import Dataset, DataLoader\n",
        "import pandas as pd\n",
        "import torch\n",
        "from sklearn.model_selection import train_test_split\n",
        "\n",
        "from google.colab import drive\n",
        "drive.mount('/content/drive')\n",
        "\n",
        "# Perceptron Class\n",
        "class Perceptron:\n",
        "  def __init__(self, features_number):\n",
        "    # Set a ramdom W and B\n",
        "    self.weight = torch.randn(features_number, 1, requires_grad=True)\n",
        "    self.bias = torch.randn(1, requires_grad=True)\n",
        "\n",
        "  # Setter and Getter\n",
        "  def get_weight(self):\n",
        "    return self.weight\n",
        "\n",
        "  def set_weight(self, value):\n",
        "    self.weight = value\n",
        "\n",
        "  def get_bias(self):\n",
        "    return self.bias\n",
        "\n",
        "  def set_bias(self, value):\n",
        "    self.bias = value\n",
        "\n",
        "  def forward(self, x):\n",
        "    # calculate the forward value\n",
        "    ret_val = torch.matmul(x, self.weight) + self.bias\n",
        "    return ret_val\n",
        "\n",
        "  def train(self, x, y, size, learning_rate=0.15):\n",
        "    for i in range(size):\n",
        "      for n in range(len(x)):\n",
        "        # to make the shape of the W and X are same, so view(1,-1)\n",
        "        xi = x[n].view(1,-1)\n",
        "        output = self.forward(xi)\n",
        "        yi = y[n].view(1,1)\n",
        "\n",
        "        # print(output.size())\n",
        "        # print(output)\n",
        "\n",
        "        # check if it's correct or not\n",
        "        if output.item()>=0 and yi.item()==0:\n",
        "          # update w and b\n",
        "          self.weight = (self.weight[0] + learning_rate*xi*(-1)).reshape(8,1)\n",
        "          self.bias = self.bias + (-1) * learning_rate\n",
        "        elif output.item()<0 and yi.item()==1:\n",
        "          # update w and b\n",
        "          self.weight = (self.weight[0] + learning_rate*xi).reshape(8,1)\n",
        "          self.bias = self.bias + learning_rate\n",
        "\n",
        "  def test(self, x, y):\n",
        "    \"\"\"\n",
        "    This is a test class, use the testing_data to test the model\n",
        "    Output is a int shows the correctness\n",
        "    \"\"\"\n",
        "    cnt = 0\n",
        "    for n in range(len(x)):\n",
        "      # to make the shape of the W and X are same, so view(1,-1)\n",
        "      xi = x[n].view(1,-1)\n",
        "      output = self.forward(xi)\n",
        "      yi = y[n].view(1,1)\n",
        "\n",
        "      # check if it's correct or not\n",
        "      if output.item()>=0 and yi.item()==0 or output.item()<0 and yi.item()==1:\n",
        "        cnt += 1\n",
        "\n",
        "    print(1 - cnt/len(x))\n",
        "\n",
        "# load the file\n",
        "data = pd.read_csv('/content/drive/MyDrive/Colab Notebooks/diabetes.csv')\n",
        "\n",
        "# Split data into training_data and testing data\n",
        "total_row = len(data)\n",
        "spilt_point = total_row //2\n",
        "#training_data = data.iloc[:spilt_point]\n",
        "#testing_data = data.iloc[spilt_point:]\n",
        "training_data, testing_data = train_test_split(data, test_size=0.2, random_state=42)\n",
        "\n",
        "# Crate tesnsor for training_data and testing data\n",
        "# get the name of Column\n",
        "feature_cols = [col for col in training_data.columns if col != 'Outcome']\n",
        "\n",
        "x_train = torch.tensor(training_data[feature_cols].values, dtype=torch.float32)\n",
        "y_train = torch.tensor(training_data['Outcome'].values, dtype=torch.float32)\n",
        "x_test = torch.tensor(testing_data[feature_cols].values, dtype=torch.float32)\n",
        "y_test = torch.tensor(training_data['Outcome'].values, dtype=torch.float32)\n",
        "\n",
        "# Create a model\n",
        "model = Perceptron(len(feature_cols))\n",
        "\n",
        "# Train it\n",
        "model.train(x_train, y_train, total_row)\n",
        "\n",
        "model.test(x_test, y_test)\n",
        "\n",
        "drive.flush_and_unmount()\n",
        "\n"
      ],
      "metadata": {
        "colab": {
          "base_uri": "https://localhost:8080/"
        },
        "id": "TVnrCQFevG0A",
        "outputId": "58e12ade-c0a3-495e-c37a-c0b4c915265c"
      },
      "execution_count": 8,
      "outputs": [
        {
          "output_type": "stream",
          "name": "stdout",
          "text": [
            "Mounted at /content/drive\n",
            "0.5974025974025974\n"
          ]
        }
      ]
    },
    {
      "cell_type": "code",
      "source": [
        "#print(x_train[2].view(1,-1))\n",
        "#print(y_train[2])\n",
        "print(y_train[2].view(1,1).item())\n",
        "eight = torch.randn(8, 1, requires_grad=True)\n",
        "#print(weight)\n",
        "bias = torch.randn(1, requires_grad=True)\n",
        "ret_val = torch.matmul(x_train[2], weight) + bias\n",
        "#print(ret_val.item())\n",
        "print(ret_val.item())"
      ],
      "metadata": {
        "colab": {
          "base_uri": "https://localhost:8080/"
        },
        "id": "vQRjJ6Ml3JXg",
        "outputId": "e00e8f90-4265-4bdb-c121-f2775448e309"
      },
      "execution_count": null,
      "outputs": [
        {
          "output_type": "stream",
          "name": "stdout",
          "text": [
            "<class 'float'>\n",
            "149.06309509277344\n"
          ]
        }
      ]
    }
  ]
}